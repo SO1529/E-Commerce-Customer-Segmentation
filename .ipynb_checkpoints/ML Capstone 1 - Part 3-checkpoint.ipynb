{
 "cells": [
  {
   "cell_type": "markdown",
   "id": "11ea5854",
   "metadata": {},
   "source": [
    "# ML Capstone 1 - Part 3 E-Commerce Customer Segmentation"
   ]
  },
  {
   "cell_type": "markdown",
   "id": "37fbf4e4",
   "metadata": {},
   "source": [
    "## TODO\n",
    " \n",
    "### Clustering Algorithms for Customer Segmentation\n",
    "- Applying unsupervised learning algorithms (e.g., K-means clustering, Hierarchical clustering) to segment customers\n",
    "- Determining the optimal number of clusters using techniques such as the elbow method or silhouette score\n",
    "- Interpreting customer segments based on cluster characteristics and feature importance\n",
    "- Visualize the clusters using PCA\n",
    "\n",
    "### Classification for Segment Prediction (8 pts)\n",
    "- Using any of the supervised learning classification algorithms (e.g., Random Forest, Gradient Boosting, Logistic Regression) predict customer segments:\n",
    "\n",
    "    - Split the dataset into training, validation and test sets\n",
    "    - Training classification models to predict the segment to which a customer belongs\n",
    "    - Validating the classification model's performance and generalization using cross-validation techniques\n",
    "    - Evaluating model performance using appropriate metrics (e.g., accuracy, precision, recall, F1-score)\n",
    "    - Iteratively refining segmentation and classification strategies based on validation results and stakeholder feedback\n"
   ]
  },
  {
   "cell_type": "markdown",
   "id": "2a6546ac",
   "metadata": {},
   "source": [
    "### Grading and Important Instructions\n",
    "- Each of the above steps are mandatory and should be completed in good faith\n",
    "- Make sure before submitting that the code is in fully working condition\n",
    "- It is fine to make use of ChatGPT, stackoverflow type resources, just provide the reference links from where you got it\n",
    "- Debugging is an art, if you find yourself stuck with errors, take help of stackoverflow and ChatGPT to resolve the issue and if it's still unresolved, reach out to me for help.\n",
    "- You need to score atleast 7/10 to pass the project, anything less than that will be marked required, needing resubmission.\n",
    "- Feedback will be provided on 3 levels (Awesome, Suggestion, & Required). Required changes are mandatory to be made.\n",
    "- For submission, please upload the project on github and share the link to the file with us through LMS."
   ]
  },
  {
   "cell_type": "markdown",
   "id": "bf95784c",
   "metadata": {},
   "source": [
    "#### Write your code below and do not delete the above instructions"
   ]
  },
  {
   "cell_type": "markdown",
   "id": "88a62482",
   "metadata": {},
   "source": []
  }
 ],
 "metadata": {
  "kernelspec": {
   "display_name": "Python 3 (ipykernel)",
   "language": "python",
   "name": "python3"
  },
  "language_info": {
   "codemirror_mode": {
    "name": "ipython",
    "version": 3
   },
   "file_extension": ".py",
   "mimetype": "text/x-python",
   "name": "python",
   "nbconvert_exporter": "python",
   "pygments_lexer": "ipython3",
   "version": "3.9.13"
  }
 },
 "nbformat": 4,
 "nbformat_minor": 5
}
