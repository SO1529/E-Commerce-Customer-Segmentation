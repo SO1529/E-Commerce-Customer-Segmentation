{
 "cells": [
  {
   "cell_type": "markdown",
   "id": "ba0e6074",
   "metadata": {},
   "source": [
    "# ML Capstone 1 - Part 1 E-Commerce Customer Segmentation"
   ]
  },
  {
   "cell_type": "markdown",
   "id": "55670281",
   "metadata": {},
   "source": [
    "### Dataset: Download CSV file from [here](https://drive.google.com/file/d/1Kyi1Akx299BFhdo77T2MmWg7fLRtMaXm/view?usp=sharing)\n",
    " \n",
    "### Context & Problem statement:\n",
    "\n",
    "In this project, we delve deep into the thriving sector of online retail by analyzing a transactional dataset from a UK-based retailer, available at the UCI Machine Learning Repository. This dataset documents all transactions between 2010 and 2011. Our primary objective is to amplify the efficiency of marketing strategies and boost sales through customer segmentation. We aim to transform the transactional data into a customer-centric dataset by creating new features that will facilitate the segmentation of customers into distinct groups using the K-means clustering algorithm. This segmentation will allow us to understand the distinct profiles and preferences of different customer groups. Building upon this, we intend to develop a recommendation system that will suggest top-selling products to customers within each segment who haven't purchased those items yet, ultimately enhancing marketing efficacy and fostering increased sales.\n",
    "\n",
    "### Objectives\n",
    "\n",
    "- Data Cleaning & Transformation: Clean the dataset by handling missing values, duplicates, and outliers, preparing it for effective clustering.\n",
    "- Feature Engineering: Develop new features based on the transactional data to create a customer-centric dataset, setting the foundation for customer segmentation.\n",
    "- Data Preprocessing: Undertake feature scaling and dimensionality reduction to streamline the data, enhancing the efficiency of the clustering process.\n",
    "- Customer Segmentation using K-Means Clustering: Segment customers into distinct groups using K-means, facilitating targeted marketing and personalized strategies.\n",
    "- Cluster Analysis & Evaluation: Analyze and profile each cluster to develop targeted marketing strategies and assess the quality of the clusters formed.\n",
    "- Recommendation System: Implement a system to recommend best-selling products to customers within the same cluster who haven't purchased those products, aiming to boost sales and marketing effectiveness."
   ]
  },
  {
   "cell_type": "markdown",
   "id": "42b15f8e",
   "metadata": {},
   "source": [
    "## TODO: Please make use of Python, Pandas, Numpy, Matplotlib and relevant libraries to do the following:\n",
    "\n",
    "### Data Retrieval (1 pt)\n",
    "- Extracting the dataset from the source (e.g., CSV file)\n",
    "- Exploring the dataset structure, features\n",
    "- Understanding the context and significance of each feature\n",
    "\n",
    "### Data preprocessing (2 pts)\n",
    "- Cleaning the dataset to handle missing values, duplicates, and outliers\n",
    "- Encoding categorical variables and transforming data types as necessary\n",
    "\n",
    "### Feature Engineering & EDA (3 pts)\n",
    "- Feature engineering to create new variables(eg Date_since_last_purchase) and do Exploratory Data Analysis (EDA)\n",
    "- Identifying correlations and patterns in the data\n",
    "- Make use of 1-d and 2-d explorations to know your data better.\n",
    "\n",
    "### Effective Communication (2 pts)\n",
    "- Please make use of markdown cells to communicate your thought process, why did you think of performing a step? what was the observation from the visualization? etc. \n",
    "- Make sure the plots are correctly labelled. \n",
    "- The code should be commented so that it is readable for the reviewer."
   ]
  },
  {
   "cell_type": "markdown",
   "id": "2a6546ac",
   "metadata": {},
   "source": [
    "### Grading and Important Instructions\n",
    "- Each of the above steps are mandatory and should be completed in good faith\n",
    "- Make sure before submitting that the code is in fully working condition\n",
    "- It is fine to make use of ChatGPT, stackoverflow type resources, just provide the reference links from where you got it\n",
    "- Debugging is an art, if you find yourself stuck with errors, take help of stackoverflow and ChatGPT to resolve the issue and if it's still unresolved, reach out to me for help.\n",
    "- You need to score atleast 7/10 to pass the project, anything less than that will be marked required, needing resubmission.\n",
    "- Feedback will be provided on 3 levels (Awesome, Suggestion, & Required). Required changes are mandatory to be made."
   ]
  },
  {
   "cell_type": "markdown",
   "id": "bf95784c",
   "metadata": {},
   "source": [
    "#### Write your code below and do not delete the above instructions"
   ]
  },
  {
   "cell_type": "markdown",
   "id": "c3a170fc",
   "metadata": {},
   "source": [
    "**Data Retrieval:**\n",
    "* We have to import some libraries like pandas to organize and manipulate data, matplotlib to create visual charts, and seaborn to make the charts look more polished and insightful.Then use read_csv to read and load the data from source."
   ]
  },
  {
   "cell_type": "code",
   "execution_count": 6,
   "id": "b59295ae",
   "metadata": {},
   "outputs": [],
   "source": [
    "import pandas as pd\n",
    "import matplotlib.pyplot as plt\n",
    "import seaborn as sns"
   ]
  },
  {
   "cell_type": "code",
   "execution_count": 7,
   "id": "eeb68ee1",
   "metadata": {},
   "outputs": [
    {
     "name": "stdout",
     "output_type": "stream",
     "text": [
      "       InvoiceNo StockCode                          Description  Quantity  \\\n",
      "0         536365    85123A   WHITE HANGING HEART T-LIGHT HOLDER         6   \n",
      "1         536365     71053                  WHITE METAL LANTERN         6   \n",
      "2         536365    84406B       CREAM CUPID HEARTS COAT HANGER         8   \n",
      "3         536365    84029G  KNITTED UNION FLAG HOT WATER BOTTLE         6   \n",
      "4         536365    84029E       RED WOOLLY HOTTIE WHITE HEART.         6   \n",
      "...          ...       ...                                  ...       ...   \n",
      "541904    581587     22613          PACK OF 20 SPACEBOY NAPKINS        12   \n",
      "541905    581587     22899         CHILDREN'S APRON DOLLY GIRL          6   \n",
      "541906    581587     23254        CHILDRENS CUTLERY DOLLY GIRL          4   \n",
      "541907    581587     23255      CHILDRENS CUTLERY CIRCUS PARADE         4   \n",
      "541908    581587     22138        BAKING SET 9 PIECE RETROSPOT          3   \n",
      "\n",
      "            InvoiceDate  UnitPrice  CustomerID         Country  \n",
      "0        12/1/2010 8:26       2.55     17850.0  United Kingdom  \n",
      "1        12/1/2010 8:26       3.39     17850.0  United Kingdom  \n",
      "2        12/1/2010 8:26       2.75     17850.0  United Kingdom  \n",
      "3        12/1/2010 8:26       3.39     17850.0  United Kingdom  \n",
      "4        12/1/2010 8:26       3.39     17850.0  United Kingdom  \n",
      "...                 ...        ...         ...             ...  \n",
      "541904  12/9/2011 12:50       0.85     12680.0          France  \n",
      "541905  12/9/2011 12:50       2.10     12680.0          France  \n",
      "541906  12/9/2011 12:50       4.15     12680.0          France  \n",
      "541907  12/9/2011 12:50       4.15     12680.0          France  \n",
      "541908  12/9/2011 12:50       4.95     12680.0          France  \n",
      "\n",
      "[541909 rows x 8 columns]\n"
     ]
    }
   ],
   "source": [
    "# Step 1: Data Retrieval\n",
    "file_path = r\"C:\\Users\\gopis\\Desktop\\DAML\\Projects\\ML\\Week-1\\ecommerce_data.csv\" #path to data file \n",
    "df = pd.read_csv(file_path, encoding=\"ISO-8859-1\")   #to read the data we have to use read_csv(for csv file)\n",
    "print(df)\n",
    "#ref:https://stackoverflow.com/questions/75747269/fix-encoding-errors-in-csv-with-mixed-encodings"
   ]
  },
  {
   "cell_type": "markdown",
   "id": "a981471e",
   "metadata": {},
   "source": [
    "* To explore the data structure and features use **head** method(prints first 5 rows from file to see the structure ) and to check information related to data or colums like datatypes use **info** method(gives information "
   ]
  },
  {
   "cell_type": "code",
   "execution_count": 8,
   "id": "9c905fba",
   "metadata": {},
   "outputs": [
    {
     "name": "stdout",
     "output_type": "stream",
     "text": [
      "First 5 rows\n",
      "  InvoiceNo StockCode                          Description  Quantity  \\\n",
      "0    536365    85123A   WHITE HANGING HEART T-LIGHT HOLDER         6   \n",
      "1    536365     71053                  WHITE METAL LANTERN         6   \n",
      "2    536365    84406B       CREAM CUPID HEARTS COAT HANGER         8   \n",
      "3    536365    84029G  KNITTED UNION FLAG HOT WATER BOTTLE         6   \n",
      "4    536365    84029E       RED WOOLLY HOTTIE WHITE HEART.         6   \n",
      "\n",
      "      InvoiceDate  UnitPrice  CustomerID         Country  \n",
      "0  12/1/2010 8:26       2.55     17850.0  United Kingdom  \n",
      "1  12/1/2010 8:26       3.39     17850.0  United Kingdom  \n",
      "2  12/1/2010 8:26       2.75     17850.0  United Kingdom  \n",
      "3  12/1/2010 8:26       3.39     17850.0  United Kingdom  \n",
      "4  12/1/2010 8:26       3.39     17850.0  United Kingdom  \n",
      "********************************\n",
      "Information of Data set\n",
      "<class 'pandas.core.frame.DataFrame'>\n",
      "RangeIndex: 541909 entries, 0 to 541908\n",
      "Data columns (total 8 columns):\n",
      " #   Column       Non-Null Count   Dtype  \n",
      "---  ------       --------------   -----  \n",
      " 0   InvoiceNo    541909 non-null  object \n",
      " 1   StockCode    541909 non-null  object \n",
      " 2   Description  540455 non-null  object \n",
      " 3   Quantity     541909 non-null  int64  \n",
      " 4   InvoiceDate  541909 non-null  object \n",
      " 5   UnitPrice    541909 non-null  float64\n",
      " 6   CustomerID   406829 non-null  float64\n",
      " 7   Country      541909 non-null  object \n",
      "dtypes: float64(2), int64(1), object(5)\n",
      "memory usage: 33.1+ MB\n",
      "None\n"
     ]
    }
   ],
   "source": [
    "# Exploring the dataset structure, features\n",
    "print(\"First 5 rows\")\n",
    "print(df.head())  #to print the top 5 data from a file \n",
    "print(\"********************************\")\n",
    "print(\"Information of Data set\")\n",
    "print(df.info())  #to print the information of the colums"
   ]
  },
  {
   "cell_type": "code",
   "execution_count": 9,
   "id": "1d875eb8",
   "metadata": {},
   "outputs": [
    {
     "name": "stdout",
     "output_type": "stream",
     "text": [
      "            Quantity      UnitPrice     CustomerID\n",
      "count  541909.000000  541909.000000  406829.000000\n",
      "mean        9.552250       4.611114   15287.690570\n",
      "std       218.081158      96.759853    1713.600303\n",
      "min    -80995.000000  -11062.060000   12346.000000\n",
      "25%         1.000000       1.250000   13953.000000\n",
      "50%         3.000000       2.080000   15152.000000\n",
      "75%        10.000000       4.130000   16791.000000\n",
      "max     80995.000000   38970.000000   18287.000000\n"
     ]
    }
   ],
   "source": [
    "# summary of dataset\n",
    "print(df.describe())"
   ]
  },
  {
   "cell_type": "markdown",
   "id": "c2881ac4",
   "metadata": {},
   "source": [
    "**Data preprocessing**\n",
    "* To clean the dataset we have to know if there are any null values in the data by using isnull method we will know null values\n",
    "and if we have any missing values we should replace the missing or null values using mean/mode depending on the type of colum.\n"
   ]
  },
  {
   "cell_type": "code",
   "execution_count": 10,
   "id": "40afbc83",
   "metadata": {},
   "outputs": [
    {
     "name": "stdout",
     "output_type": "stream",
     "text": [
      "InvoiceNo           0\n",
      "StockCode           0\n",
      "Description      1454\n",
      "Quantity            0\n",
      "InvoiceDate         0\n",
      "UnitPrice           0\n",
      "CustomerID     135080\n",
      "Country             0\n",
      "dtype: int64\n"
     ]
    }
   ],
   "source": [
    "# Step-2:Data preprocessing\n",
    "missing=df.isnull().sum() # checking for missing values\n",
    "print(missing)"
   ]
  },
  {
   "cell_type": "code",
   "execution_count": 11,
   "id": "046fafd7",
   "metadata": {},
   "outputs": [],
   "source": [
    "# handling missing values \n",
    "df.fillna(df.mean(numeric_only=True), inplace=True)  # For numerical columns\n",
    "df.fillna(df.mode().iloc[0], inplace=True)  # For categorical columns"
   ]
  },
  {
   "cell_type": "markdown",
   "id": "d8963feb",
   "metadata": {},
   "source": [
    "* To remove duplicates use drop_duplicates method as per the data the output is none which means there is no duplicates"
   ]
  },
  {
   "cell_type": "code",
   "execution_count": 12,
   "id": "639926ff",
   "metadata": {},
   "outputs": [
    {
     "name": "stdout",
     "output_type": "stream",
     "text": [
      "None\n"
     ]
    }
   ],
   "source": [
    "# Removing duplicates and checking we have any duplicates\n",
    "drop=df.drop_duplicates(inplace=True)\n",
    "print(drop)"
   ]
  },
  {
   "cell_type": "code",
   "execution_count": 13,
   "id": "3344885d",
   "metadata": {},
   "outputs": [
    {
     "name": "stdout",
     "output_type": "stream",
     "text": [
      "InvoiceNo      0\n",
      "StockCode      0\n",
      "Description    0\n",
      "Quantity       0\n",
      "InvoiceDate    0\n",
      "UnitPrice      0\n",
      "CustomerID     0\n",
      "Country        0\n",
      "dtype: int64\n"
     ]
    }
   ],
   "source": [
    "#check missing values once again\n",
    "missing=df.isnull().sum()\n",
    "print(missing)"
   ]
  },
  {
   "cell_type": "markdown",
   "id": "54e541e3",
   "metadata": {},
   "source": [
    "* changing the data type of customerid from float to int"
   ]
  },
  {
   "cell_type": "code",
   "execution_count": 14,
   "id": "70a79e12",
   "metadata": {},
   "outputs": [
    {
     "name": "stdout",
     "output_type": "stream",
     "text": [
      "int32\n"
     ]
    }
   ],
   "source": [
    "#change data types\n",
    "df['CustomerID']=df['CustomerID'].astype(int)\n",
    "print(df['CustomerID'].dtype)"
   ]
  },
  {
   "cell_type": "markdown",
   "id": "772a4f8b",
   "metadata": {},
   "source": [
    "**Feature Engineering & EDA**"
   ]
  },
  {
   "cell_type": "code",
   "execution_count": 16,
   "id": "cee93b4e",
   "metadata": {},
   "outputs": [],
   "source": [
    "# Step 3: Feature Engineering & EDA\n",
    "# Creating new feature: Days since last purchase\n",
    "if 'InvoiceDate' in df.columns:\n",
    "    df['InvoiceDate'] = pd.to_datetime(df['InvoiceDate'], errors='coerce')\n",
    "    df['days_since_last_purchase'] = (pd.Timestamp.today() - df['InvoiceDate']).dt.days"
   ]
  },
  {
   "cell_type": "code",
   "execution_count": 17,
   "id": "e8a3daea",
   "metadata": {},
   "outputs": [
    {
     "name": "stdout",
     "output_type": "stream",
     "text": [
      "<class 'pandas.core.frame.DataFrame'>\n",
      "Int64Index: 536641 entries, 0 to 541908\n",
      "Data columns (total 9 columns):\n",
      " #   Column                    Non-Null Count   Dtype         \n",
      "---  ------                    --------------   -----         \n",
      " 0   InvoiceNo                 536641 non-null  object        \n",
      " 1   StockCode                 536641 non-null  object        \n",
      " 2   Description               536641 non-null  object        \n",
      " 3   Quantity                  536641 non-null  int64         \n",
      " 4   InvoiceDate               536641 non-null  datetime64[ns]\n",
      " 5   UnitPrice                 536641 non-null  float64       \n",
      " 6   CustomerID                536641 non-null  int32         \n",
      " 7   Country                   536641 non-null  object        \n",
      " 8   days_since_last_purchase  536641 non-null  int64         \n",
      "dtypes: datetime64[ns](1), float64(1), int32(1), int64(2), object(4)\n",
      "memory usage: 38.9+ MB\n",
      "None\n"
     ]
    }
   ],
   "source": [
    "print(df.info())"
   ]
  },
  {
   "cell_type": "code",
   "execution_count": 18,
   "id": "42d9e46c",
   "metadata": {},
   "outputs": [
    {
     "data": {
      "image/png": "[encoded data removed]",
      "text/plain": [
       "<Figure size 640x480 with 1 Axes>"
      ]
     },
     "metadata": {},
     "output_type": "display_data"
    }
   ],
   "source": [
    "# Boxplot for detecting outliers\n",
    "sns.boxplot(x=df['Quantity'])\n",
    "plt.title('Outliers in Quantity')\n",
    "plt.show()\n"
   ]
  },
  {
   "cell_type": "code",
   "execution_count": 19,
   "id": "0bb5204f",
   "metadata": {},
   "outputs": [
    {
     "data": {
      "image/png": "[encoded data removed]",
      "text/plain": [
       "<Figure size 640x480 with 2 Axes>"
      ]
     },
     "metadata": {},
     "output_type": "display_data"
    }
   ],
   "source": [
    "correlation_matrix = df[['Quantity', 'UnitPrice']].corr() # Calculating the correlation between 'Quantity' and 'UnitPrice' columns\n",
    "sns.heatmap(correlation_matrix, annot=True, cmap='coolwarm', fmt='.2f') \n",
    "# Create a heatmap to visualize the correlation matrix\n",
    "# annot=True will display the correlation values on the heatmap, \n",
    "# cmap='coolwarm' sets the color scheme, \n",
    "# fmt='.2f' formats the numbers to two decimal places\n",
    "plt.title('Correlation Matrix')\n",
    "plt.show()"
   ]
  },
  {
   "cell_type": "code",
   "execution_count": 1,
   "id": "f19b199e",
   "metadata": {},
   "outputs": [],
   "source": []
  },
  {
   "cell_type": "code",
   "execution_count": null,
   "id": "d12284fe",
   "metadata": {},
   "outputs": [],
   "source": []
  }
 ],
 "metadata": {
  "kernelspec": {
   "display_name": "Python 3 (ipykernel)",
   "language": "python",
   "name": "python3"
  },
  "language_info": {
   "codemirror_mode": {
    "name": "ipython",
    "version": 3
   },
   "file_extension": ".py",
   "mimetype": "text/x-python",
   "name": "python",
   "nbconvert_exporter": "python",
   "pygments_lexer": "ipython3",
   "version": "3.9.13"
  }
 },
 "nbformat": 4,
 "nbformat_minor": 5
}
